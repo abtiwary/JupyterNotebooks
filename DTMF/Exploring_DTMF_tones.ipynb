{
 "cells": [
  {
   "cell_type": "markdown",
   "metadata": {},
   "source": [
    "## Naively exploring how DTMF works using Python"
   ]
  },
  {
   "cell_type": "code",
   "execution_count": 1,
   "metadata": {},
   "outputs": [],
   "source": [
    "import os\n",
    "import wave \n",
    "import pylab \n",
    "import numpy "
   ]
  },
  {
   "cell_type": "code",
   "execution_count": 2,
   "metadata": {},
   "outputs": [],
   "source": [
    "from numpy import * \n",
    "from pylab import *"
   ]
  },
  {
   "cell_type": "code",
   "execution_count": 3,
   "metadata": {},
   "outputs": [],
   "source": [
    "from matplotlib import pyplot\n",
    "%matplotlib inline"
   ]
  },
  {
   "cell_type": "code",
   "execution_count": 5,
   "metadata": {},
   "outputs": [
    {
     "name": "stdout",
     "output_type": "stream",
     "text": [
      "/notebooks/DTMF/dialabc\n"
     ]
    }
   ],
   "source": [
    "dtmf_dir = os.path.join(os.getcwd(), \"dialabc\")\n",
    "print(dtmf_dir)"
   ]
  },
  {
   "cell_type": "code",
   "execution_count": 17,
   "metadata": {},
   "outputs": [
    {
     "name": "stdout",
     "output_type": "stream",
     "text": [
      "(5600,)\n",
      "16000\n"
     ]
    }
   ],
   "source": [
    "wav = wave.open(os.path.join(dtmf_dir, \"0_16KHz_300ms.wav\"), 'r')\n",
    "frames = wav.readframes(-1)\n",
    "sound_info = pylab.frombuffer(frames, dtype=numpy.dtype(\"int16\"))\n",
    "frame_rate = wav.getframerate()\n",
    "wav.close()\n",
    "channels = len(sound_info.shape)\n",
    "print(sound_info.shape)\n",
    "print(frame_rate)"
   ]
  },
  {
   "cell_type": "code",
   "execution_count": 18,
   "metadata": {},
   "outputs": [
    {
     "name": "stdout",
     "output_type": "stream",
     "text": [
      "[     0    441   1184   1941   2380   2239   1419     42  -1581  -3029\n",
      "  -3905  -3955  -3158  -1735    -85   1333   2156   2228   1660    797\n",
      "     97    -23    635   1966   3539   4712   4820   3403    402  -3747\n",
      "  -8153 -11666 -13159 -11862  -7616  -1004   6721  13884  18777  20088\n",
      "  17255  10658   1571  -8102 -16265 -21139 -21680 -17852 -10618  -1695]\n",
      "1\n",
      "<class 'numpy.ndarray'>\n",
      "int16\n"
     ]
    }
   ],
   "source": [
    "print(sound_info[0:50])\n",
    "print(channels)\n",
    "print(type(sound_info))\n",
    "print(sound_info.dtype)"
   ]
  },
  {
   "cell_type": "code",
   "execution_count": 21,
   "metadata": {},
   "outputs": [
    {
     "name": "stdout",
     "output_type": "stream",
     "text": [
      "5600 [   0    1    2 ... 5597 5598 5599] 0.35 [0.00000000e+00 2.85714286e+00 5.71428571e+00 ... 7.99142857e+03\n",
      " 7.99428571e+03 7.99714286e+03]\n"
     ]
    }
   ],
   "source": [
    "n = sound_info.shape[0] \n",
    "k = arange(n)\n",
    "T = n / (frame_rate * 1.0) \n",
    "\n",
    "frq = k / T \n",
    "frq = frq[range(n//2)]\n",
    "\n",
    "print(n, k, T, frq)"
   ]
  },
  {
   "cell_type": "code",
   "execution_count": 23,
   "metadata": {},
   "outputs": [
    {
     "data": {
      "text/plain": [
       "Text(0, 0.5, 'Power (dB)')"
      ]
     },
     "execution_count": 23,
     "metadata": {},
     "output_type": "execute_result"
    },
    {
     "data": {
      "image/png": "[encoded data removed]",
      "text/plain": [
       "<Figure size 432x288 with 1 Axes>"
      ]
     },
     "metadata": {
      "needs_background": "light"
     },
     "output_type": "display_data"
    }
   ],
   "source": [
    "y = numpy.fft.fft(sound_info) / n \n",
    "y = y[range(n//2)]\n",
    "y = (abs(y)) ** 2\n",
    "\n",
    "plt.plot(frq, abs(y), color='k')\n",
    "plt.xlabel('Frequency (kHz)')\n",
    "plt.ylabel('Power (dB)')"
   ]
  },
  {
   "cell_type": "code",
   "execution_count": null,
   "metadata": {},
   "outputs": [],
   "source": [
    "Above we see two sharp peaks at around 940 and 1336\n",
    "(look at the _DTMF keypad frequencies_ table at https://en.wikipedia.org/wiki/Dual-tone_multi-frequency_signaling)"
   ]
  },
  {
   "cell_type": "code",
   "execution_count": 24,
   "metadata": {},
   "outputs": [],
   "source": [
    "import pandas"
   ]
  },
  {
   "cell_type": "code",
   "execution_count": 25,
   "metadata": {
    "scrolled": true
   },
   "outputs": [
    {
     "data": {
      "text/html": [
       "<div>\n",
       "<style scoped>\n",
       "    .dataframe tbody tr th:only-of-type {\n",
       "        vertical-align: middle;\n",
       "    }\n",
       "\n",
       "    .dataframe tbody tr th {\n",
       "        vertical-align: top;\n",
       "    }\n",
       "\n",
       "    .dataframe thead th {\n",
       "        text-align: right;\n",
       "    }\n",
       "</style>\n",
       "<table border=\"1\" class=\"dataframe\">\n",
       "  <thead>\n",
       "    <tr style=\"text-align: right;\">\n",
       "      <th></th>\n",
       "      <th>Frequency</th>\n",
       "      <th>PowerDB</th>\n",
       "    </tr>\n",
       "  </thead>\n",
       "  <tbody>\n",
       "    <tr>\n",
       "      <th>0</th>\n",
       "      <td>0.000000</td>\n",
       "      <td>0.010690</td>\n",
       "    </tr>\n",
       "    <tr>\n",
       "      <th>1</th>\n",
       "      <td>2.857143</td>\n",
       "      <td>0.015067</td>\n",
       "    </tr>\n",
       "    <tr>\n",
       "      <th>2</th>\n",
       "      <td>5.714286</td>\n",
       "      <td>0.027437</td>\n",
       "    </tr>\n",
       "    <tr>\n",
       "      <th>3</th>\n",
       "      <td>8.571429</td>\n",
       "      <td>0.038860</td>\n",
       "    </tr>\n",
       "    <tr>\n",
       "      <th>4</th>\n",
       "      <td>11.428571</td>\n",
       "      <td>0.059813</td>\n",
       "    </tr>\n",
       "    <tr>\n",
       "      <th>...</th>\n",
       "      <td>...</td>\n",
       "      <td>...</td>\n",
       "    </tr>\n",
       "    <tr>\n",
       "      <th>2795</th>\n",
       "      <td>7985.714286</td>\n",
       "      <td>0.000256</td>\n",
       "    </tr>\n",
       "    <tr>\n",
       "      <th>2796</th>\n",
       "      <td>7988.571429</td>\n",
       "      <td>0.000249</td>\n",
       "    </tr>\n",
       "    <tr>\n",
       "      <th>2797</th>\n",
       "      <td>7991.428571</td>\n",
       "      <td>0.000313</td>\n",
       "    </tr>\n",
       "    <tr>\n",
       "      <th>2798</th>\n",
       "      <td>7994.285714</td>\n",
       "      <td>0.000051</td>\n",
       "    </tr>\n",
       "    <tr>\n",
       "      <th>2799</th>\n",
       "      <td>7997.142857</td>\n",
       "      <td>0.000111</td>\n",
       "    </tr>\n",
       "  </tbody>\n",
       "</table>\n",
       "<p>2800 rows × 2 columns</p>\n",
       "</div>"
      ],
      "text/plain": [
       "        Frequency   PowerDB\n",
       "0        0.000000  0.010690\n",
       "1        2.857143  0.015067\n",
       "2        5.714286  0.027437\n",
       "3        8.571429  0.038860\n",
       "4       11.428571  0.059813\n",
       "...           ...       ...\n",
       "2795  7985.714286  0.000256\n",
       "2796  7988.571429  0.000249\n",
       "2797  7991.428571  0.000313\n",
       "2798  7994.285714  0.000051\n",
       "2799  7997.142857  0.000111\n",
       "\n",
       "[2800 rows x 2 columns]"
      ]
     },
     "execution_count": 25,
     "metadata": {},
     "output_type": "execute_result"
    }
   ],
   "source": [
    "df = pandas.DataFrame(data={ 'Frequency':frq, 'PowerDB': y })\n",
    "df.columns\n",
    "df"
   ]
  },
  {
   "cell_type": "code",
   "execution_count": 27,
   "metadata": {},
   "outputs": [
    {
     "name": "stdout",
     "output_type": "stream",
     "text": [
      "2800\n",
      "36367736.912030995 31372916.380938414\n"
     ]
    }
   ],
   "source": [
    "dframe_size = df.Frequency.size\n",
    "print(dframe_size)\n",
    "power_sorted = sorted(y)\n",
    "print(power_sorted[-1], power_sorted[-2])"
   ]
  },
  {
   "cell_type": "code",
   "execution_count": 31,
   "metadata": {
    "scrolled": true
   },
   "outputs": [
    {
     "name": "stdout",
     "output_type": "stream",
     "text": [
      "        Frequency       PowerDB\n",
      "2235  6385.714286  4.726236e-07\n",
      "1177  3362.857143  1.048751e-06\n",
      "1605  4585.714286  1.109417e-06\n",
      "2416  6902.857143  1.219144e-06\n",
      "2431  6945.714286  1.978187e-06\n",
      "...           ...           ...\n",
      "331    945.714286  2.268530e+06\n",
      "330    942.857143  1.500531e+07\n",
      "467   1334.285714  1.992290e+07\n",
      "468   1337.142857  3.137292e+07\n",
      "329    940.000000  3.636774e+07\n",
      "\n",
      "[2800 rows x 2 columns]\n"
     ]
    }
   ],
   "source": [
    "df_sorted = df.sort_values('PowerDB')\n",
    "print(df_sorted)"
   ]
  },
  {
   "cell_type": "code",
   "execution_count": 32,
   "metadata": {},
   "outputs": [
    {
     "name": "stdout",
     "output_type": "stream",
     "text": [
      "940.0000000000001\n",
      "1337.1428571428573\n"
     ]
    }
   ],
   "source": [
    "print(df_sorted.Frequency.iloc[dframe_size-1])\n",
    "print(df_sorted.Frequency.iloc[dframe_size-2])"
   ]
  },
  {
   "cell_type": "markdown",
   "metadata": {},
   "source": [
    "|        | 1209Hz | 1336Hz | 1477Hz |\n",
    "| ------ | ------ | ------ | ------ |\n",
    "| 697Hz\t | 1\t  | 2\t   | 3      | \n",
    "| 770Hz\t | 4\t  | 5\t   | 6      | \n",
    "| 852Hz\t | 7\t  | 8\t   | 9      | \n",
    "| 941Hz\t | *      | 0\t   | #      |"
   ]
  },
  {
   "cell_type": "code",
   "execution_count": null,
   "metadata": {
    "collapsed": true
   },
   "outputs": [],
   "source": []
  }
 ],
 "metadata": {
  "kernelspec": {
   "display_name": "Python 3",
   "language": "python",
   "name": "python3"
  },
  "language_info": {
   "codemirror_mode": {
    "name": "ipython",
    "version": 3
   },
   "file_extension": ".py",
   "mimetype": "text/x-python",
   "name": "python",
   "nbconvert_exporter": "python",
   "pygments_lexer": "ipython3",
   "version": "3.8.8"
  }
 },
 "nbformat": 4,
 "nbformat_minor": 2
}
